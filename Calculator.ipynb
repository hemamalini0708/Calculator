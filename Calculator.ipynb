{
  "nbformat": 4,
  "nbformat_minor": 0,
  "metadata": {
    "colab": {
      "provenance": [],
      "authorship_tag": "ABX9TyN/dloFNiMUbFDxw0IWB68R",
      "include_colab_link": true
    },
    "kernelspec": {
      "name": "python3",
      "display_name": "Python 3"
    },
    "language_info": {
      "name": "python"
    }
  },
  "cells": [
    {
      "cell_type": "markdown",
      "metadata": {
        "id": "view-in-github",
        "colab_type": "text"
      },
      "source": [
        "<a href=\"https://colab.research.google.com/github/hemamalini0708/Calculator/blob/main/Calculator.ipynb\" target=\"_parent\"><img src=\"https://colab.research.google.com/assets/colab-badge.svg\" alt=\"Open In Colab\"/></a>"
      ]
    },
    {
      "cell_type": "code",
      "execution_count": 1,
      "metadata": {
        "colab": {
          "base_uri": "https://localhost:8080/"
        },
        "id": "l_Li4d7Vy1tl",
        "outputId": "d1aa6c1d-93ca-4fab-ab95-76d275deed1b"
      },
      "outputs": [
        {
          "output_type": "stream",
          "name": "stdout",
          "text": [
            "\n",
            "Implement a Basic Calculator.\n",
            "1. Addition\n",
            "2. Subtract\n",
            "3. Multiply\n",
            "4. Divide\n",
            "5. Exit\n",
            "Enter your choice: 1\n",
            "Enter first number: 45\n",
            "Enter second number: 54\n",
            "Result: 99.0\n",
            "\n",
            "Implement a Basic Calculator.\n",
            "1. Addition\n",
            "2. Subtract\n",
            "3. Multiply\n",
            "4. Divide\n",
            "5. Exit\n",
            "Enter your choice: 3\n",
            "Enter first number: 65\n",
            "Enter second number: 76\n",
            "Result: 4940.0\n",
            "\n",
            "Implement a Basic Calculator.\n",
            "1. Addition\n",
            "2. Subtract\n",
            "3. Multiply\n",
            "4. Divide\n",
            "5. Exit\n",
            "Enter your choice: 5\n",
            "Exiting Calculator.\n"
          ]
        }
      ],
      "source": [
        "while True:\n",
        "    print(\"\\nImplement a Basic Calculator.\")\n",
        "    print(\"1. Addition\")\n",
        "    print(\"2. Subtract\")\n",
        "    print(\"3. Multiply\")\n",
        "    print(\"4. Divide\")\n",
        "    print(\"5. Exit\")\n",
        "\n",
        "    choice = input(\"Enter your choice: \")\n",
        "\n",
        "    if choice == \"5\":\n",
        "        print(\"Exiting Calculator.\")\n",
        "        break\n",
        "\n",
        "    elif choice in ['1', '2', '3', '4']:\n",
        "        x = float(input(\"Enter first number: \"))\n",
        "        y = float(input(\"Enter second number: \"))\n",
        "\n",
        "        if choice == '1':\n",
        "            print(\"Result:\", x + y)\n",
        "        elif choice == '2':\n",
        "            print(\"Result:\", x - y)\n",
        "        elif choice == '3':\n",
        "            print(\"Result:\", x * y)\n",
        "        elif choice == '4':\n",
        "            if y != 0:\n",
        "                print(\"Result:\", x / y)\n",
        "            else:\n",
        "                print(\"Error: Divide by zero\")\n",
        "\n",
        "    else:\n",
        "        print(\"Invalid Choice. Please try again.\")"
      ]
    }
  ]
}